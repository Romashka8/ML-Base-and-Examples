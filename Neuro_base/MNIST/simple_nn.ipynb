{
 "cells": [
  {
   "cell_type": "code",
   "execution_count": 1,
   "id": "4869ff61-d01a-4d1a-9da5-aecd5bee8810",
   "metadata": {},
   "outputs": [],
   "source": [
    "import numpy as np\n",
    "from sklearn.datasets import fetch_openml"
   ]
  },
  {
   "cell_type": "markdown",
   "id": "654ce5e0-6855-4848-af7e-b1ebaabfdca9",
   "metadata": {},
   "source": [
    "✅write down simpliest model for MNIST classification - we will use it as Baseline model later"
   ]
  },
  {
   "cell_type": "code",
   "execution_count": 2,
   "id": "f8262cab-fdff-4788-9064-54f74dc9e6aa",
   "metadata": {},
   "outputs": [],
   "source": [
    "class ClassifierMNIST:\n",
    "    def __init__(self):\n",
    "        self.weights = None\n",
    "        self.n_classes = 10\n",
    "\n",
    "    def fit(self, x_train, y_train) -> None:\n",
    "        bias = np.ones((len(x_train), 1))\n",
    "        x_train_with_bias = np.concatenate([bias, x_train], axis=1)\n",
    "\n",
    "        weights_init = np.ones((self.n_classes, x_train_with_bias.shape[1]))\n",
    "\n",
    "        for label in range(self.n_classes):\n",
    "            indices = np.where(y_train == label)[0]\n",
    "            xi = x_train_with_bias[indices]\n",
    "            yi = np.full(indices.shape[0], 1)\n",
    "            # use analytic regression solution\n",
    "            wi = np.linalg.pinv(xi.T @ xi) @ xi.T @ yi\n",
    "            weights_init[label] = wi\n",
    "        self.weights = weights_init\n",
    "\n",
    "    def predict(self, x):\n",
    "        bias = np.ones((len(x), 1))\n",
    "        x_with_bias = np.concatenate([bias, x], axis=1)\n",
    "        scores = self.weights @ x_with_bias.T\n",
    "        return np.argmax(scores, axis=0)"
   ]
  },
  {
   "cell_type": "code",
   "execution_count": 3,
   "id": "9ae00afe-7f15-41ff-aa69-5f02eaf99758",
   "metadata": {},
   "outputs": [],
   "source": [
    "x, y = fetch_openml('mnist_784', version=1, return_X_y=True)"
   ]
  },
  {
   "cell_type": "code",
   "execution_count": 4,
   "id": "49111e2d-c911-4412-8f89-16011e62a661",
   "metadata": {},
   "outputs": [],
   "source": [
    "x /= 255\n",
    "y = y.astype(np.uint8)"
   ]
  },
  {
   "cell_type": "code",
   "execution_count": 5,
   "id": "fbdb9f12-2cd6-46c6-affb-c3093dbe5794",
   "metadata": {},
   "outputs": [],
   "source": [
    "x_train, x_test, y_train, y_test = x[:60000], x[60000:], y[:60000], y[60000:]"
   ]
  },
  {
   "cell_type": "code",
   "execution_count": 6,
   "id": "b11d03b2-5fc4-44e5-9c67-e8056e1054b8",
   "metadata": {},
   "outputs": [],
   "source": [
    "model = ClassifierMNIST()\n",
    "model.fit(x_train, y_train)"
   ]
  },
  {
   "cell_type": "code",
   "execution_count": 7,
   "id": "c34d61a8-974d-41f3-b8ad-8950ad0fe2fd",
   "metadata": {},
   "outputs": [],
   "source": [
    "predictions = model.predict(x_test)"
   ]
  },
  {
   "cell_type": "markdown",
   "id": "3f4afea0-cfa3-4120-b8ee-09fa834bf09b",
   "metadata": {},
   "source": [
    "✅As we thought - we have a low accuracy!"
   ]
  },
  {
   "cell_type": "code",
   "execution_count": 8,
   "id": "c5eca796-c52b-4876-8d38-43c4cd71076c",
   "metadata": {},
   "outputs": [
    {
     "name": "stdout",
     "output_type": "stream",
     "text": [
      "Accuracy: 5.13%\n"
     ]
    }
   ],
   "source": [
    "accuracy = np.mean(predictions == y_test) * 100\n",
    "print(f\"Accuracy: {accuracy:.2f}%\")"
   ]
  }
 ],
 "metadata": {
  "kernelspec": {
   "display_name": "Python 3 (ipykernel)",
   "language": "python",
   "name": "python3"
  },
  "language_info": {
   "codemirror_mode": {
    "name": "ipython",
    "version": 3
   },
   "file_extension": ".py",
   "mimetype": "text/x-python",
   "name": "python",
   "nbconvert_exporter": "python",
   "pygments_lexer": "ipython3",
   "version": "3.10.12"
  }
 },
 "nbformat": 4,
 "nbformat_minor": 5
}
