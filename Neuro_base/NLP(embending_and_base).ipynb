{
 "cells": [
  {
   "cell_type": "markdown",
   "id": "e9023575-81f8-4974-8a1e-fe4e689a8ede",
   "metadata": {},
   "source": [
    "### Look on base NLP methods"
   ]
  },
  {
   "cell_type": "code",
   "execution_count": 1,
   "id": "dce811d9-907c-4bf5-acc8-3bc5d32eebe6",
   "metadata": {},
   "outputs": [],
   "source": [
    "# Download reviews.txt and labels.txt from here: https://github.com/udacity/deep-learning/tree/master/sentiment-network\n",
    "\n",
    "def pretty_print_review_and_label(i):\n",
    "   print(labels[i] + \"\\t:\\t\" + reviews[i][:80] + \"...\")\n",
    "\n",
    "# training data\n",
    "g = open('reviews.txt','r')\n",
    "reviews = list(map(lambda x:x[:-1], g.readlines()))\n",
    "g.close()\n",
    "\n",
    "# target\n",
    "g = open('labels.txt','r')\n",
    "labels = list(map(lambda x:x[:-1].upper(), g.readlines()))\n",
    "g.close()"
   ]
  },
  {
   "cell_type": "markdown",
   "id": "39cb07dd-5b8a-4815-9908-d684fb91a280",
   "metadata": {},
   "source": [
    "### This is how we can represent words"
   ]
  },
  {
   "cell_type": "code",
   "execution_count": 2,
   "id": "cbb38590-00a5-434b-b046-745c3230a28a",
   "metadata": {},
   "outputs": [
    {
     "name": "stdout",
     "output_type": "stream",
     "text": [
      "Sent Encoding:[1 1 0 1]\n"
     ]
    }
   ],
   "source": [
    "import numpy as np\n",
    "\n",
    "onehots = {}\n",
    "onehots['cat'] = np.array([1,0,0,0])\n",
    "onehots['the'] = np.array([0,1,0,0])\n",
    "onehots['dog'] = np.array([0,0,1,0])\n",
    "onehots['sat'] = np.array([0,0,0,1])\n",
    "\n",
    "sentence = ['the','cat','sat']\n",
    "x = onehots[sentence[0]] + \\\n",
    "    onehots[sentence[1]] + \\\n",
    "    onehots[sentence[2]]\n",
    "\n",
    "print(\"Sent Encoding:\" + str(x))"
   ]
  },
  {
   "cell_type": "markdown",
   "id": "a6866481-b4c8-4e84-99e5-41a88cbb10b4",
   "metadata": {},
   "source": [
    "### Predicting movie reviews"
   ]
  },
  {
   "cell_type": "markdown",
   "id": "e5dc161c-260f-4be8-baaf-f2bd7153b4b1",
   "metadata": {},
   "source": [
    "#### First represent reviews in digital data"
   ]
  },
  {
   "cell_type": "code",
   "execution_count": 3,
   "id": "e14960db-c114-4200-b372-0335e87e01dd",
   "metadata": {},
   "outputs": [],
   "source": [
    "import sys\n",
    "\n",
    "f = open('reviews.txt')\n",
    "raw_reviews = f.readlines()\n",
    "f.close()\n",
    "\n",
    "f = open('labels.txt')\n",
    "raw_labels = f.readlines()\n",
    "f.close()\n",
    "\n",
    "tokens = list(map(lambda x:set(x.split(' ')), raw_reviews))\n",
    "\n",
    "vocab = set()\n",
    "for sent in tokens:\n",
    "    for word in sent:\n",
    "        if len(word) > 0:\n",
    "            vocab.add(word)\n",
    "vocab = list(vocab)\n",
    "\n",
    "word2index = {}\n",
    "for i, word in enumerate(vocab):\n",
    "    word2index[word] = i\n",
    "\n",
    "input_dataset = list()\n",
    "for sent in tokens:\n",
    "    sent_indices = list()\n",
    "    for word in sent:\n",
    "        try:\n",
    "            sent_indices.append(word2index[word])\n",
    "        except:\n",
    "            \"\"\n",
    "    input_dataset.append(list(set(sent_indices)))\n",
    "\n",
    "target_dataset = list()\n",
    "for label in raw_labels:\n",
    "    if label == 'positive\\n':\n",
    "        target_dataset.append(1)\n",
    "    else:\n",
    "        target_dataset.append(0)"
   ]
  },
  {
   "cell_type": "markdown",
   "id": "7c6795cc-9846-47b9-a9b4-cf278f719cac",
   "metadata": {},
   "source": [
    "#### Write down simple NN"
   ]
  },
  {
   "cell_type": "code",
   "execution_count": 4,
   "id": "6522591a-e15f-481c-a175-f876d221e8e2",
   "metadata": {},
   "outputs": [
    {
     "name": "stdout",
     "output_type": "stream",
     "text": [
      "Iter:0 Progress:95.99% Training Accuracy:0.8339583333333334%%\n",
      "Iter:1 Progress:95.99% Training Accuracy:0.8669166666666667%\n",
      "Test Accuracy:0.848\n"
     ]
    }
   ],
   "source": [
    "import numpy as np\n",
    "np.random.seed(1)\n",
    "\n",
    "# adding activation functions\n",
    "def sigmoid(x):\n",
    "    return 1 / (1 + np.exp(-x))\n",
    "\n",
    "# setup network parameters\n",
    "alpha, iterations = 0.01, 2\n",
    "hidden_size = 100\n",
    "\n",
    "# setup weights manualy\n",
    "weights_0_1 = 0.2 * np.random.random((len(vocab), hidden_size)) - 0.1\n",
    "weights_1_2 = 0.2 * np.random.random((hidden_size, 1)) - 0.1\n",
    "\n",
    "# train our network\n",
    "correct, total = (0, 0)\n",
    "for iter in range(iterations):\n",
    "    # train our network on first 24000 objects\n",
    "    for i in range(len(input_dataset) - 1000):\n",
    "        # embended data plus forward error propagation\n",
    "        x, y = input_dataset[i], target_dataset[i]\n",
    "        layer_1 = sigmoid(np.sum(weights_0_1[x], axis=0))\n",
    "        layer_2 = sigmoid(np.dot(layer_1, weights_1_2))\n",
    "        # backpropagation\n",
    "        layer_2_delta = layer_2 - y\n",
    "        layer_1_delta = layer_2_delta.dot(weights_1_2.T)\n",
    "        weights_0_1[x] -= layer_1_delta * alpha\n",
    "        weights_1_2 -= np.outer(layer_1, layer_2_delta) * alpha\n",
    "\n",
    "        if np.abs(layer_2_delta) < 0.5:\n",
    "            correct += 1\n",
    "        total += 1\n",
    "        if i % 10 == 9:\n",
    "            progress = str(i/float(len(input_dataset)))\n",
    "            sys.stdout.write('\\rIter:'+str(iter)\\\n",
    "                            +' Progress:'+progress[2:4]\\\n",
    "                            +'.'+progress[4:6]\\\n",
    "                            +'% Training Accuracy:'\\\n",
    "                            + str(correct/float(total)) + '%')\n",
    "    print()\n",
    "\n",
    "correct, total = (0, 0)\n",
    "for i in range(len(input_dataset) - 1000, len(input_dataset)):\n",
    "    \n",
    "    x = input_dataset[i]\n",
    "    y = target_dataset[i]\n",
    "\n",
    "    layer_1 = sigmoid(np.sum(weights_0_1[x], axis=0))\n",
    "    layer_2 = sigmoid(np.dot(layer_1, weights_1_2))\n",
    "\n",
    "    if np.abs(layer_2 - y) < 0.5:\n",
    "        correct += 1\n",
    "    total += 1\n",
    "\n",
    "print('Test Accuracy:' + str(correct / float(total)))"
   ]
  },
  {
   "cell_type": "markdown",
   "id": "bed6dbe5-ee15-4b0a-83d0-0950a981b243",
   "metadata": {},
   "source": [
    "### Compare embended words"
   ]
  },
  {
   "cell_type": "markdown",
   "id": "c8152c11-a8c2-4650-8592-9a0ffb4201e4",
   "metadata": {},
   "source": [
    "In the learning process, the network groups our words by similarity. Let's see how it goes. We can group words with any metric. Let's see on MSE."
   ]
  },
  {
   "cell_type": "code",
   "execution_count": 5,
   "id": "68fc96ec-d552-467e-98a7-81353d5d2fa5",
   "metadata": {},
   "outputs": [],
   "source": [
    "from collections import Counter\n",
    "import math\n",
    "\n",
    "def similar(target='beautiful'):\n",
    "    target_index = word2index[target]\n",
    "    scores = Counter()\n",
    "    for word, index in word2index.items():\n",
    "        raw_difference = weights_0_1[index] - weights_0_1[target_index]\n",
    "        squared_difference = raw_difference ** 2\n",
    "        scores[word] = -math.sqrt(sum(squared_difference))\n",
    "    return scores.most_common(10)"
   ]
  },
  {
   "cell_type": "code",
   "execution_count": 6,
   "id": "c8485574-9f85-4962-9ff3-ada422b6ed8f",
   "metadata": {},
   "outputs": [
    {
     "name": "stdout",
     "output_type": "stream",
     "text": [
      "[('beautiful', -0.0), ('true', -0.7189083598947267), ('emotions', -0.7504230216456905), ('impressed', -0.7526605206380348), ('episodes', -0.7537834885234282), ('vhs', -0.7587024277058798), ('subtle', -0.7624069735425496), ('delightful', -0.7713142364783331), ('spectacular', -0.7725673780871809), ('ralph', -0.7764145134532926)]\n"
     ]
    }
   ],
   "source": [
    "print(similar('beautiful'))"
   ]
  },
  {
   "cell_type": "code",
   "execution_count": 7,
   "id": "dfb4d9e2-11cd-40d2-9338-8102bec40bb2",
   "metadata": {},
   "outputs": [
    {
     "name": "stdout",
     "output_type": "stream",
     "text": [
      "[('terrible', -0.0), ('disappointing', -0.7818822901909498), ('annoying', -0.7941784967722754), ('mess', -0.8234147715835306), ('fails', -0.823539417498892), ('boring', -0.8294172614962738), ('worse', -0.8301163411692052), ('disappointment', -0.8442467075338626), ('dull', -0.8496125214783501), ('lacks', -0.85419026512117)]\n"
     ]
    }
   ],
   "source": [
    "print(similar('terrible'))"
   ]
  }
 ],
 "metadata": {
  "kernelspec": {
   "display_name": "Python 3 (ipykernel)",
   "language": "python",
   "name": "python3"
  },
  "language_info": {
   "codemirror_mode": {
    "name": "ipython",
    "version": 3
   },
   "file_extension": ".py",
   "mimetype": "text/x-python",
   "name": "python",
   "nbconvert_exporter": "python",
   "pygments_lexer": "ipython3",
   "version": "3.10.12"
  }
 },
 "nbformat": 4,
 "nbformat_minor": 5
}
