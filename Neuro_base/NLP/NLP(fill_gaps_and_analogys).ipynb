{
 "cells": [
  {
   "cell_type": "code",
   "execution_count": 1,
   "id": "eb1adf30-4f97-47df-aa07-e7de5ac0acba",
   "metadata": {},
   "outputs": [],
   "source": [
    "import sys,random,math\n",
    "from collections import Counter\n",
    "import numpy as np"
   ]
  },
  {
   "cell_type": "code",
   "execution_count": 2,
   "id": "4ce7155b-548e-4510-a8c3-20eb0b657327",
   "metadata": {},
   "outputs": [],
   "source": [
    "np.random.seed(1)\n",
    "random.seed(1)"
   ]
  },
  {
   "cell_type": "code",
   "execution_count": 3,
   "id": "5e316e52-584c-4b10-bc81-b57b7bac80f3",
   "metadata": {},
   "outputs": [],
   "source": [
    "f = open('reviews.txt')\n",
    "raw_reviews = f.readlines()\n",
    "f.close()\n",
    "\n",
    "tokens = list(map(lambda x:(x.split(\" \")),raw_reviews))\n",
    "wordcnt = Counter()\n",
    "for sent in tokens:\n",
    "    for word in sent:\n",
    "        wordcnt[word] -= 1\n",
    "vocab = list(set(map(lambda x:x[0],wordcnt.most_common())))\n",
    "\n",
    "word2index = {}\n",
    "for i,word in enumerate(vocab):\n",
    "    word2index[word]=i\n",
    "\n",
    "concatenated = list()\n",
    "input_dataset = list()\n",
    "for sent in tokens:\n",
    "    sent_indices = list()\n",
    "    for word in sent:\n",
    "        try:\n",
    "            sent_indices.append(word2index[word])\n",
    "            concatenated.append(word2index[word])\n",
    "        except:\n",
    "            \"\"\n",
    "    input_dataset.append(sent_indices)\n",
    "concatenated = np.array(concatenated)\n",
    "random.shuffle(input_dataset)"
   ]
  },
  {
   "cell_type": "markdown",
   "id": "4f9de81c-e2b5-4f5e-8784-26ae1cdc6875",
   "metadata": {},
   "source": [
    "### Filling in the blank"
   ]
  },
  {
   "cell_type": "code",
   "execution_count": 4,
   "id": "a18f8ce7-5389-4bdf-a9f1-d3df5790bcd7",
   "metadata": {},
   "outputs": [],
   "source": [
    "def similar(target='beautiful'):\n",
    "  target_index = word2index[target]\n",
    "\n",
    "  scores = Counter()\n",
    "  for word,index in word2index.items():\n",
    "    raw_difference = weights_0_1[index] - (weights_0_1[target_index])\n",
    "    squared_difference = raw_difference * raw_difference\n",
    "    scores[word] = -math.sqrt(sum(squared_difference))\n",
    "  return scores.most_common(10)\n",
    "\n",
    "def sigmoid(x):\n",
    "    return 1/(1 + np.exp(-x))"
   ]
  },
  {
   "cell_type": "code",
   "execution_count": 5,
   "id": "0a97dab6-00e8-4989-bdc0-7a57c6d7ed3e",
   "metadata": {},
   "outputs": [
    {
     "name": "stdout",
     "output_type": "stream",
     "text": [
      "Progress:0.99998 [('terrible', -0.0), ('horrible', -2.834826518548311), ('brilliant', -3.0212907361878765), ('phenomenal', -3.5700826478698477), ('superb', -3.652054757348279), ('pathetic', -3.717197670179342), ('marvelous', -3.7482885020897885), ('mediocre', -3.7501919235088566), ('masterful', -3.8372760152403775), ('miserable', -3.95204044576222)]5)])]63)][('terrible', -0.0), ('horrible', -2.796762697351021), ('brilliant', -3.2612000357516893), ('phenomenal', -3.6732169141111135), ('pathetic', -3.713043523268326), ('bad', -3.820526517756504), ('mediocre', -3.838973802913548), ('marvelous', -3.851360501195549), ('superb', -3.8941396374371764), ('masterful', -3.9700464473721357)]\n"
     ]
    }
   ],
   "source": [
    "alpha, iterations = (0.05, 2)\n",
    "hidden_size,window,negative = (50,2,5)\n",
    "\n",
    "weights_0_1 = (np.random.rand(len(vocab),hidden_size) - 0.5) * 0.2\n",
    "weights_1_2 = np.random.rand(len(vocab),hidden_size)*0\n",
    "\n",
    "layer_2_target = np.zeros(negative+1)\n",
    "layer_2_target[0] = 1\n",
    "\n",
    "for rev_i,review in enumerate(input_dataset * iterations):\n",
    "  for target_i in range(len(review)):\n",
    "        \n",
    "    # since it's really expensive to predict every vocabulary\n",
    "    # we're only going to predict a random subset\n",
    "    target_samples = [review[target_i]]+list(concatenated\\\n",
    "    [(np.random.rand(negative)*len(concatenated)).astype('int').tolist()])\n",
    "\n",
    "    left_context = review[max(0,target_i-window):target_i]\n",
    "    right_context = review[target_i+1:min(len(review),target_i+window)]\n",
    "\n",
    "    layer_1 = np.mean(weights_0_1[left_context+right_context],axis=0)\n",
    "    layer_2 = sigmoid(layer_1.dot(weights_1_2[target_samples].T))\n",
    "    layer_2_delta = layer_2 - layer_2_target\n",
    "    layer_1_delta = layer_2_delta.dot(weights_1_2[target_samples])\n",
    "\n",
    "    weights_0_1[left_context+right_context] -= layer_1_delta * alpha\n",
    "    weights_1_2[target_samples] -= np.outer(layer_2_delta,layer_1)*alpha\n",
    "\n",
    "  if(rev_i % 250 == 0):\n",
    "    sys.stdout.write('\\rProgress:'+str(rev_i/float(len(input_dataset)\n",
    "        *iterations)) + \"   \" + str(similar('terrible')))\n",
    "  sys.stdout.write('\\rProgress:'+str(rev_i/float(len(input_dataset)\n",
    "        *iterations)))\n",
    "print(similar('terrible'))"
   ]
  },
  {
   "cell_type": "markdown",
   "id": "aee30093-d5be-4191-9818-fcfad87c4417",
   "metadata": {},
   "source": [
    "### See how network finds analogys"
   ]
  },
  {
   "cell_type": "code",
   "execution_count": 8,
   "id": "3a695441-1360-45e8-b1b6-af09ff712fde",
   "metadata": {},
   "outputs": [],
   "source": [
    "def analogy(positive=['terrible','good'],negative=['bad']):\n",
    "    \n",
    "    norms = np.sum(weights_0_1 * weights_0_1,axis=1)\n",
    "    norms.resize(norms.shape[0],1)\n",
    "    \n",
    "    normed_weights = weights_0_1 * norms\n",
    "    \n",
    "    query_vect = np.zeros(len(weights_0_1[0]))\n",
    "    for word in positive:\n",
    "        query_vect += normed_weights[word2index[word]]\n",
    "    for word in negative:\n",
    "        query_vect -= normed_weights[word2index[word]]\n",
    "    \n",
    "    scores = Counter()\n",
    "    for word,index in word2index.items():\n",
    "        raw_difference = weights_0_1[index] - query_vect\n",
    "        squared_difference = raw_difference * raw_difference\n",
    "        scores[word] = -math.sqrt(sum(squared_difference))\n",
    "        \n",
    "    return scores.most_common(10)[1:]"
   ]
  },
  {
   "cell_type": "code",
   "execution_count": 9,
   "id": "c7c2a8ca-50b1-4ba0-acf3-c6810b651f44",
   "metadata": {},
   "outputs": [
    {
     "data": {
      "text/plain": [
       "[('superb', -222.55410259404772),\n",
       " ('terrific', -222.93166050573805),\n",
       " ('decent', -222.95729531984014),\n",
       " ('fine', -222.988410621835),\n",
       " ('great', -223.35586302972584),\n",
       " ('worth', -223.37884242503583),\n",
       " ('nice', -223.38542143972032),\n",
       " ('brilliant', -223.39597869833207),\n",
       " ('perfect', -223.4656110159031)]"
      ]
     },
     "execution_count": 9,
     "metadata": {},
     "output_type": "execute_result"
    }
   ],
   "source": [
    "analogy(['terrible','good'],['bad'])"
   ]
  },
  {
   "cell_type": "code",
   "execution_count": 10,
   "id": "e07e7b17-7748-4876-8eba-fef6fd1cc136",
   "metadata": {},
   "outputs": [
    {
     "data": {
      "text/plain": [
       "[('christopher', -191.2302892734723),\n",
       " ('john', -191.7417074080458),\n",
       " ('william', -191.8072119302868),\n",
       " ('david', -191.83178663836733),\n",
       " ('simon', -191.85329794918522),\n",
       " ('mr', -191.99448664624535),\n",
       " ('fred', -192.0169070881519),\n",
       " ('this', -192.03602427546232),\n",
       " ('bruce', -192.04545969278882)]"
      ]
     },
     "execution_count": 10,
     "metadata": {},
     "output_type": "execute_result"
    }
   ],
   "source": [
    "analogy(['elizabeth','he'],['she'])"
   ]
  }
 ],
 "metadata": {
  "kernelspec": {
   "display_name": "Python 3 (ipykernel)",
   "language": "python",
   "name": "python3"
  },
  "language_info": {
   "codemirror_mode": {
    "name": "ipython",
    "version": 3
   },
   "file_extension": ".py",
   "mimetype": "text/x-python",
   "name": "python",
   "nbconvert_exporter": "python",
   "pygments_lexer": "ipython3",
   "version": "3.10.12"
  }
 },
 "nbformat": 4,
 "nbformat_minor": 5
}
